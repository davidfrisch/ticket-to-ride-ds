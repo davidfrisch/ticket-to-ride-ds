{
 "cells": [
  {
   "cell_type": "code",
   "execution_count": 1,
   "metadata": {},
   "outputs": [
    {
     "name": "stderr",
     "output_type": "stream",
     "text": [
      "mkdir -p failed for path /cs/student/msc/sse/2023/frischer/.config/matplotlib: [Errno 13] Permission denied: '/cs'\n",
      "Matplotlib created a temporary cache directory at /tmp/matplotlib-teal3hle because there was an issue with the default path (/cs/student/msc/sse/2023/frischer/.config/matplotlib); it is highly recommended to set the MPLCONFIGDIR environment variable to a writable directory, in particular to speed up the import of Matplotlib and to better support multiprocessing.\n"
     ]
    },
    {
     "name": "stdout",
     "output_type": "stream",
     "text": [
      "WARNING ⚠️ user config directory '/cs/student/msc/sse/2023/frischer/.config/Ultralytics' is not writeable, defaulting to '/tmp' or CWD.Alternatively you can define a YOLO_CONFIG_DIR environment variable for this path.\n"
     ]
    }
   ],
   "source": [
    "from ultralytics import YOLO\n",
    "\n",
    "model = YOLO(\"./best.pt\")"
   ]
  },
  {
   "cell_type": "code",
   "execution_count": 4,
   "metadata": {},
   "outputs": [
    {
     "name": "stderr",
     "output_type": "stream",
     "text": [
      "[ WARN:0@31.587] global loadsave.cpp:268 findDecoder imread_('./images/img_4.png'): can't open/read file: check file path/integrity\n"
     ]
    },
    {
     "ename": "error",
     "evalue": "OpenCV(4.11.0) /io/opencv/modules/imgcodecs/src/loadsave.cpp:929: error: (-215:Assertion failed) !_img.empty() in function 'imwrite'\n",
     "output_type": "error",
     "traceback": [
      "\u001b[0;31m---------------------------------------------------------------------------\u001b[0m",
      "\u001b[0;31merror\u001b[0m                                     Traceback (most recent call last)",
      "Cell \u001b[0;32mIn[4], line 6\u001b[0m\n\u001b[1;32m      3\u001b[0m image_white \u001b[38;5;241m=\u001b[39m cv2\u001b[38;5;241m.\u001b[39mimread(\u001b[38;5;124m\"\u001b[39m\u001b[38;5;124m./images/img_4.png\u001b[39m\u001b[38;5;124m\"\u001b[39m)  \u001b[38;5;66;03m# load an image\u001b[39;00m\n\u001b[1;32m      5\u001b[0m \u001b[38;5;66;03m# save the image to disk\u001b[39;00m\n\u001b[0;32m----> 6\u001b[0m \u001b[43mcv2\u001b[49m\u001b[38;5;241;43m.\u001b[39;49m\u001b[43mimwrite\u001b[49m\u001b[43m(\u001b[49m\u001b[38;5;124;43m\"\u001b[39;49m\u001b[38;5;124;43mtrain_test.jpg\u001b[39;49m\u001b[38;5;124;43m\"\u001b[39;49m\u001b[43m,\u001b[49m\u001b[43m \u001b[49m\u001b[43mimage_white\u001b[49m\u001b[43m)\u001b[49m\n\u001b[1;32m      8\u001b[0m results \u001b[38;5;241m=\u001b[39m model(\u001b[38;5;124m\"\u001b[39m\u001b[38;5;124m./train_test.jpg\u001b[39m\u001b[38;5;124m\"\u001b[39m)  \u001b[38;5;66;03m# predict on an image\u001b[39;00m\n\u001b[1;32m     10\u001b[0m \u001b[38;5;28;01mfor\u001b[39;00m result \u001b[38;5;129;01min\u001b[39;00m results:\n",
      "\u001b[0;31merror\u001b[0m: OpenCV(4.11.0) /io/opencv/modules/imgcodecs/src/loadsave.cpp:929: error: (-215:Assertion failed) !_img.empty() in function 'imwrite'\n"
     ]
    }
   ],
   "source": [
    "import cv2\n",
    "\n",
    "image_white = cv2.imread(\"./images/img_4.png\")  # load an image\n",
    "\n",
    "# save the image to disk\n",
    "cv2.imwrite(\"train_test.jpg\", image_white)\n",
    "\n",
    "results = model(\"./train_test.jpg\")  # predict on an image\n",
    "\n",
    "for result in results:\n",
    "    boxes = result.boxes  # Boxes object for bounding box outputs\n",
    "    masks = result.masks  # Masks object for segmentation masks outputs\n",
    "    keypoints = result.keypoints  # Keypoints object for pose outputs\n",
    "    probs = result.probs  # Probs object for classification outputs\n",
    "    obb = result.obb  # Oriented boxes object for OBB outputs\n",
    "    result.show()  # display to screen\n",
    "    result.save(filename=\"result.jpg\")"
   ]
  },
  {
   "cell_type": "code",
   "execution_count": null,
   "metadata": {},
   "outputs": [
    {
     "name": "stderr",
     "output_type": "stream",
     "text": [
      "2025-02-13 15:58:33.598 Python[30943:7036789] +[IMKClient subclass]: chose IMKClient_Modern\n",
      "2025-02-13 15:58:33.598 Python[30943:7036789] +[IMKInputSession subclass]: chose IMKInputSession_Modern\n"
     ]
    }
   ],
   "source": [
    "import cv2\n",
    "import numpy as np\n",
    "\n",
    "# Define the HSV range for green\n",
    "lower_green = np.array([40, 50, 50])   # Lower bound (Hue, Saturation, Value)\n",
    "upper_green = np.array([90, 255, 255]) # Upper bound\n",
    "\n",
    "# Load the image\n",
    "image = cv2.imread(\"./images/img_5.png\")  # Change this to your image filename\n",
    "hsv = cv2.cvtColor(image, cv2.COLOR_BGR2HSV)\n",
    "\n",
    "# Create a mask\n",
    "mask = cv2.inRange(hsv, lower_green, upper_green)\n",
    "\n",
    "# Find contours (objects in the green range)\n",
    "contours, _ = cv2.findContours(mask, cv2.RETR_EXTERNAL, cv2.CHAIN_APPROX_SIMPLE)\n",
    "\n",
    "# Draw contours on the original image\n",
    "for contour in contours:\n",
    "    if cv2.contourArea(contour) > 200:  # Ignore small noise\n",
    "        x, y, w, h = cv2.boundingRect(contour)\n",
    "        cv2.rectangle(image, (x, y), (x + w, y + h), (0, 255, 0), 3)\n",
    "\n",
    "# Show the result\n",
    "cv2.imshow(\"Green Wagon Tracking\", image)\n",
    "cv2.imshow(\"Mask\", mask)\n",
    "cv2.waitKey(0)\n",
    "cv2.destroyAllWindows()\n"
   ]
  },
  {
   "cell_type": "code",
   "execution_count": 5,
   "metadata": {},
   "outputs": [],
   "source": [
    "from ultralytics import YOLO\n",
    "\n",
    "model = YOLO(\"./best.pt\")"
   ]
  },
  {
   "cell_type": "code",
   "execution_count": null,
   "metadata": {},
   "outputs": [],
   "source": [
    "import cv2\n",
    "\n",
    "# Load image\n",
    "board_img = cv2.imread(\"./images/img_4.jpeg\", cv2.IMREAD_UNCHANGED)  # Keep transparency if needed\n",
    "\n",
    "# Run YOLOv11 model\n",
    "results = model(board_img)  \n",
    "\n",
    "# Extract bounding boxes\n",
    "for box in results[0].boxes.xywh:  # If using Ultralytics YOLOv8 style outputs\n",
    "    x_center, y_center, w, h = map(int, box)  # Convert to integers\n",
    "\n",
    "    # Convert (x_center, y_center, w, h) to (x1, y1, x2, y2)\n",
    "    x1 = max(0, x_center - w // 2)\n",
    "    y1 = max(0, y_center - h // 2)\n",
    "    x2 = min(board_img.shape[1], x_center + w // 2)\n",
    "    y2 = min(board_img.shape[0], y_center + h // 2)\n",
    "\n",
    "    # Crop the detected object\n",
    "    cropped_img = board_img[y1:y2, x1:x2]\n",
    "\n",
    "    # Save or display the cropped image\n",
    "    cv2.imwrite(f\"cropped_{x1}_{y1}.jpg\", cropped_img)\n",
    "\n",
    "\n"
   ]
  },
  {
   "cell_type": "code",
   "execution_count": 2,
   "metadata": {},
   "outputs": [],
   "source": [
    "import cv2\n",
    "import os\n",
    "\n",
    "def crop_image(image, x, y, w, h):\n",
    "    return image[y:y+h, x:x+w]\n",
    "  \n",
    "def crop_and_save_image(image, x, y, w, h, output_folder):\n",
    "    cropped_img = crop_image(image, x, y, w, h)\n",
    "    cv2.imwrite(output_folder, cropped_img)\n",
    "    \n",
    "def split_image(image, rows, cols, filename, output_folder):\n",
    "    img_h, img_w, _ = image.shape  # Height, Width, Channels\n",
    "    square_h = img_h // rows\n",
    "    square_w = img_w // cols\n",
    "\n",
    "    os.makedirs(output_folder, exist_ok=True)\n",
    "    \n",
    "    for row in range(rows):\n",
    "        for col in range(cols):\n",
    "            x1, y1 = col * square_w, row * square_h\n",
    "            x2, y2 = x1 + square_w, y1 + square_h\n",
    "\n",
    "            crop_filename = f\"{output_folder}/{filename}_crop_{row}_{col}.jpg\"\n",
    "            crop_and_save_image(image, x1, y1, square_w, square_h, crop_filename)\n",
    "            \n",
    "            \n",
    "# Load the image\n",
    "board_img = cv2.imread(\"./cropped_49_77.jpg\", cv2.IMREAD_UNCHANGED)\n",
    "\n",
    "split_image(board_img, 3, 3, \"cropped_49_77\", \"output_folder\")\n"
   ]
  }
 ],
 "metadata": {
  "kernelspec": {
   "display_name": ".venv",
   "language": "python",
   "name": "python3"
  },
  "language_info": {
   "codemirror_mode": {
    "name": "ipython",
    "version": 3
   },
   "file_extension": ".py",
   "mimetype": "text/x-python",
   "name": "python",
   "nbconvert_exporter": "python",
   "pygments_lexer": "ipython3",
   "version": "3.9.21"
  }
 },
 "nbformat": 4,
 "nbformat_minor": 2
}
