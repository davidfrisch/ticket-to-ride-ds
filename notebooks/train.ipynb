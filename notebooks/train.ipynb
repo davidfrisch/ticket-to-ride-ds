{
 "cells": [
  {
   "cell_type": "code",
   "execution_count": 8,
   "metadata": {},
   "outputs": [
    {
     "name": "stdout",
     "output_type": "stream",
     "text": [
      "Requirement already satisfied: roboflow in ./.venv/lib/python3.10/site-packages (1.1.54)\n",
      "Requirement already satisfied: certifi in ./.venv/lib/python3.10/site-packages (from roboflow) (2025.1.31)\n",
      "Requirement already satisfied: idna==3.7 in ./.venv/lib/python3.10/site-packages (from roboflow) (3.7)\n",
      "Requirement already satisfied: cycler in ./.venv/lib/python3.10/site-packages (from roboflow) (0.12.1)\n",
      "Requirement already satisfied: kiwisolver>=1.3.1 in ./.venv/lib/python3.10/site-packages (from roboflow) (1.4.8)\n",
      "Requirement already satisfied: matplotlib in ./.venv/lib/python3.10/site-packages (from roboflow) (3.10.0)\n",
      "Requirement already satisfied: numpy>=1.18.5 in ./.venv/lib/python3.10/site-packages (from roboflow) (2.1.1)\n",
      "Requirement already satisfied: opencv-python-headless==4.10.0.84 in ./.venv/lib/python3.10/site-packages (from roboflow) (4.10.0.84)\n",
      "Requirement already satisfied: Pillow>=7.1.2 in ./.venv/lib/python3.10/site-packages (from roboflow) (11.1.0)\n",
      "Requirement already satisfied: python-dateutil in ./.venv/lib/python3.10/site-packages (from roboflow) (2.9.0.post0)\n",
      "Requirement already satisfied: python-dotenv in ./.venv/lib/python3.10/site-packages (from roboflow) (1.0.1)\n",
      "Requirement already satisfied: requests in ./.venv/lib/python3.10/site-packages (from roboflow) (2.32.3)\n",
      "Requirement already satisfied: six in ./.venv/lib/python3.10/site-packages (from roboflow) (1.17.0)\n",
      "Requirement already satisfied: urllib3>=1.26.6 in ./.venv/lib/python3.10/site-packages (from roboflow) (2.3.0)\n",
      "Requirement already satisfied: tqdm>=4.41.0 in ./.venv/lib/python3.10/site-packages (from roboflow) (4.67.1)\n",
      "Requirement already satisfied: PyYAML>=5.3.1 in ./.venv/lib/python3.10/site-packages (from roboflow) (6.0.2)\n",
      "Requirement already satisfied: requests-toolbelt in ./.venv/lib/python3.10/site-packages (from roboflow) (1.0.0)\n",
      "Requirement already satisfied: filetype in ./.venv/lib/python3.10/site-packages (from roboflow) (1.2.0)\n",
      "Requirement already satisfied: contourpy>=1.0.1 in ./.venv/lib/python3.10/site-packages (from matplotlib->roboflow) (1.3.1)\n",
      "Requirement already satisfied: fonttools>=4.22.0 in ./.venv/lib/python3.10/site-packages (from matplotlib->roboflow) (4.56.0)\n",
      "Requirement already satisfied: packaging>=20.0 in ./.venv/lib/python3.10/site-packages (from matplotlib->roboflow) (24.2)\n",
      "Requirement already satisfied: pyparsing>=2.3.1 in ./.venv/lib/python3.10/site-packages (from matplotlib->roboflow) (3.2.1)\n",
      "Requirement already satisfied: charset-normalizer<4,>=2 in ./.venv/lib/python3.10/site-packages (from requests->roboflow) (3.4.1)\n",
      "\n",
      "\u001b[1m[\u001b[0m\u001b[34;49mnotice\u001b[0m\u001b[1;39;49m]\u001b[0m\u001b[39;49m A new release of pip is available: \u001b[0m\u001b[31;49m24.3.1\u001b[0m\u001b[39;49m -> \u001b[0m\u001b[32;49m25.0.1\u001b[0m\n",
      "\u001b[1m[\u001b[0m\u001b[34;49mnotice\u001b[0m\u001b[1;39;49m]\u001b[0m\u001b[39;49m To update, run: \u001b[0m\u001b[32;49mpip install --upgrade pip\u001b[0m\n",
      "loading Roboflow workspace...\n",
      "loading Roboflow project...\n"
     ]
    },
    {
     "name": "stderr",
     "output_type": "stream",
     "text": [
      "Downloading Dataset Version Zip in Aventurier-du-rail-Europe-2 to yolov11:: 100%|██████████| 39510/39510 [00:02<00:00, 15899.14it/s]"
     ]
    },
    {
     "name": "stdout",
     "output_type": "stream",
     "text": [
      "\n"
     ]
    },
    {
     "name": "stderr",
     "output_type": "stream",
     "text": [
      "\n",
      "Extracting Dataset Version Zip to Aventurier-du-rail-Europe-2 in yolov11:: 100%|██████████| 790/790 [00:00<00:00, 5466.25it/s]\n"
     ]
    }
   ],
   "source": [
    "!pip install roboflow\n",
    "\n",
    "from roboflow import Roboflow\n",
    "rf = Roboflow(api_key=\"l5mJh0UKN5hxGIHa8obf\")\n",
    "project = rf.workspace(\"general-qevzd\").project(\"aventurier-du-rail-europe-efbbn\")\n",
    "version = project.version(2)\n",
    "dataset = version.download(\"yolov11\")\n",
    "                "
   ]
  },
  {
   "cell_type": "code",
   "execution_count": null,
   "metadata": {},
   "outputs": [],
   "source": [
    "from ultralytics import YOLO\n",
    "\n",
    "model = YOLO(\"yolo11n.pt\")  # load a pretrained model (recommended for training)\n",
    "results = model.train(data=\"/Users/david/development/small_projects/ds_ticket_to_ride/Aventurier-du-rail-Europe-2/data.yaml\", epochs=30, imgsz=640)\n"
   ]
  },
  {
   "cell_type": "code",
   "execution_count": 2,
   "metadata": {},
   "outputs": [
    {
     "name": "stdout",
     "output_type": "stream",
     "text": [
      "\u001b[33mWARNING: The directory '/cs/student/msc/sse/2023/frischer/.cache/pip' or its parent directory is not owned or is not writable by the current user. The cache has been disabled. Check the permissions and owner of that directory. If executing pip with sudo, you should use sudo's -H flag.\u001b[0m\n",
      "Collecting roboflow\n",
      "  Downloading roboflow-1.1.54-py3-none-any.whl (83 kB)\n",
      "     |████████████████████████████████| 83 kB 18.0 MB/s            \n",
      "\u001b[?25hCollecting filetype\n",
      "  Downloading filetype-1.2.0-py2.py3-none-any.whl (19 kB)\n",
      "Collecting requests\n",
      "  Downloading requests-2.32.3-py3-none-any.whl (64 kB)\n",
      "     |████████████████████████████████| 64 kB 43.3 MB/s            \n",
      "\u001b[?25hRequirement already satisfied: python-dateutil in ./.venv/lib/python3.9/site-packages (from roboflow) (2.9.0.post0)\n",
      "Collecting idna==3.7\n",
      "  Downloading idna-3.7-py3-none-any.whl (66 kB)\n",
      "     |████████████████████████████████| 66 kB 152.2 MB/s            \n",
      "\u001b[?25hCollecting python-dotenv\n",
      "  Downloading python_dotenv-1.0.1-py3-none-any.whl (19 kB)\n",
      "Collecting numpy>=1.18.5\n",
      "  Downloading numpy-2.0.2-cp39-cp39-manylinux_2_17_x86_64.manylinux2014_x86_64.whl (19.5 MB)\n",
      "     |████████████████████████████████| 19.5 MB 76.6 MB/s            \n",
      "\u001b[?25hCollecting kiwisolver>=1.3.1\n",
      "  Downloading kiwisolver-1.4.7-cp39-cp39-manylinux_2_12_x86_64.manylinux2010_x86_64.whl (1.6 MB)\n",
      "     |████████████████████████████████| 1.6 MB 65.4 MB/s            \n",
      "\u001b[?25hCollecting PyYAML>=5.3.1\n",
      "  Downloading PyYAML-6.0.2-cp39-cp39-manylinux_2_17_x86_64.manylinux2014_x86_64.whl (737 kB)\n",
      "     |████████████████████████████████| 737 kB 23.0 MB/s            \n",
      "\u001b[?25hCollecting Pillow>=7.1.2\n",
      "  Downloading pillow-11.1.0-cp39-cp39-manylinux_2_28_x86_64.whl (4.5 MB)\n",
      "     |████████████████████████████████| 4.5 MB 54.4 MB/s            \n",
      "\u001b[?25hCollecting matplotlib\n",
      "  Downloading matplotlib-3.9.4-cp39-cp39-manylinux_2_17_x86_64.manylinux2014_x86_64.whl (8.3 MB)\n",
      "     |████████████████████████████████| 8.3 MB 67.1 MB/s            \n",
      "\u001b[?25hCollecting opencv-python-headless==4.10.0.84\n",
      "  Downloading opencv_python_headless-4.10.0.84-cp37-abi3-manylinux_2_17_x86_64.manylinux2014_x86_64.whl (49.9 MB)\n",
      "     |████████████████████████████████| 49.9 MB 57.8 MB/s            \n",
      "\u001b[?25hCollecting urllib3>=1.26.6\n",
      "  Downloading urllib3-2.3.0-py3-none-any.whl (128 kB)\n",
      "     |████████████████████████████████| 128 kB 91.6 MB/s            \n",
      "\u001b[?25hCollecting certifi\n",
      "  Downloading certifi-2025.1.31-py3-none-any.whl (166 kB)\n",
      "     |████████████████████████████████| 166 kB 86.1 MB/s            \n",
      "\u001b[?25hCollecting cycler\n",
      "  Downloading cycler-0.12.1-py3-none-any.whl (8.3 kB)\n",
      "Collecting tqdm>=4.41.0\n",
      "  Downloading tqdm-4.67.1-py3-none-any.whl (78 kB)\n",
      "     |████████████████████████████████| 78 kB 120.4 MB/s            \n",
      "\u001b[?25hCollecting requests-toolbelt\n",
      "  Downloading requests_toolbelt-1.0.0-py2.py3-none-any.whl (54 kB)\n",
      "     |████████████████████████████████| 54 kB 126.8 MB/s            \n",
      "\u001b[?25hRequirement already satisfied: six in ./.venv/lib/python3.9/site-packages (from roboflow) (1.17.0)\n",
      "Collecting contourpy>=1.0.1\n",
      "  Downloading contourpy-1.3.0-cp39-cp39-manylinux_2_17_x86_64.manylinux2014_x86_64.whl (321 kB)\n",
      "     |████████████████████████████████| 321 kB 83.0 MB/s            \n",
      "\u001b[?25hCollecting importlib-resources>=3.2.0\n",
      "  Downloading importlib_resources-6.5.2-py3-none-any.whl (37 kB)\n",
      "Collecting fonttools>=4.22.0\n",
      "  Downloading fonttools-4.56.0-cp39-cp39-manylinux_2_17_x86_64.manylinux2014_x86_64.whl (4.6 MB)\n",
      "     |████████████████████████████████| 4.6 MB 88.7 MB/s            \n",
      "\u001b[?25hRequirement already satisfied: packaging>=20.0 in ./.venv/lib/python3.9/site-packages (from matplotlib->roboflow) (24.2)\n",
      "Collecting pyparsing>=2.3.1\n",
      "  Downloading pyparsing-3.2.1-py3-none-any.whl (107 kB)\n",
      "     |████████████████████████████████| 107 kB 84.4 MB/s            \n",
      "\u001b[?25hCollecting charset-normalizer<4,>=2\n",
      "  Downloading charset_normalizer-3.4.1-cp39-cp39-manylinux_2_17_x86_64.manylinux2014_x86_64.whl (146 kB)\n",
      "     |████████████████████████████████| 146 kB 42.7 MB/s            \n",
      "\u001b[?25hRequirement already satisfied: zipp>=3.1.0 in ./.venv/lib/python3.9/site-packages (from importlib-resources>=3.2.0->matplotlib->roboflow) (3.21.0)\n",
      "Installing collected packages: urllib3, numpy, idna, charset-normalizer, certifi, requests, pyparsing, Pillow, kiwisolver, importlib-resources, fonttools, cycler, contourpy, tqdm, requests-toolbelt, PyYAML, python-dotenv, opencv-python-headless, matplotlib, filetype, roboflow\n",
      "Successfully installed Pillow-11.1.0 PyYAML-6.0.2 certifi-2025.1.31 charset-normalizer-3.4.1 contourpy-1.3.0 cycler-0.12.1 filetype-1.2.0 fonttools-4.56.0 idna-3.7 importlib-resources-6.5.2 kiwisolver-1.4.7 matplotlib-3.9.4 numpy-2.0.2 opencv-python-headless-4.10.0.84 pyparsing-3.2.1 python-dotenv-1.0.1 requests-2.32.3 requests-toolbelt-1.0.0 roboflow-1.1.54 tqdm-4.67.1 urllib3-2.3.0\n",
      "\u001b[33mWARNING: You are using pip version 21.3.1; however, version 25.0.1 is available.\n",
      "You should consider upgrading via the '/home/frischer/ticket-to-ride-ds/.venv/bin/python3 -m pip install --upgrade pip' command.\u001b[0m\n",
      "loading Roboflow workspace...\n",
      "loading Roboflow project...\n"
     ]
    },
    {
     "name": "stderr",
     "output_type": "stream",
     "text": [
      "Downloading Dataset Version Zip in TicketToRide-map-shape-2 to yolov11:: 100%|██████████| 110836/110836 [00:03<00:00, 29531.46it/s]"
     ]
    },
    {
     "name": "stdout",
     "output_type": "stream",
     "text": [
      "\n"
     ]
    },
    {
     "name": "stderr",
     "output_type": "stream",
     "text": [
      "\n",
      "Extracting Dataset Version Zip to TicketToRide-map-shape-2 in yolov11:: 100%|██████████| 194/194 [00:00<00:00, 1417.89it/s]\n"
     ]
    }
   ],
   "source": [
    "!pip3 install roboflow\n",
    "from roboflow import Roboflow\n",
    "rf = Roboflow(api_key=\"l5mJh0UKN5hxGIHa8obf\")\n",
    "project = rf.workspace(\"general-qevzd\").project(\"tickettoride-map-shape-wirhv\")\n",
    "version = project.version(2)\n",
    "dataset = version.download(\"yolov11\")\n",
    "                "
   ]
  },
  {
   "cell_type": "code",
   "execution_count": null,
   "metadata": {},
   "outputs": [],
   "source": [
    "!pip3 install ultralytics\n",
    "from ultralytics import YOLO\n",
    "\n",
    "model = YOLO(\"yolo11n.pt\")  # load a pretrained model (recommended for training)\n",
    "results = model.train(data=\"/home/frischer/ticket-to-ride-ds/TicketToRide-map-shape-2/data.yaml\", epochs=50)\n"
   ]
  }
 ],
 "metadata": {
  "kernelspec": {
   "display_name": ".venv",
   "language": "python",
   "name": "python3"
  },
  "language_info": {
   "codemirror_mode": {
    "name": "ipython",
    "version": 3
   },
   "file_extension": ".py",
   "mimetype": "text/x-python",
   "name": "python",
   "nbconvert_exporter": "python",
   "pygments_lexer": "ipython3",
   "version": "3.9.21"
  }
 },
 "nbformat": 4,
 "nbformat_minor": 2
}
