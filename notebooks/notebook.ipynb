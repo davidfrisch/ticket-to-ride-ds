{
 "cells": [
  {
   "cell_type": "code",
   "execution_count": 86,
   "metadata": {},
   "outputs": [],
   "source": [
    "\n",
    "import cv2\n",
    "import numpy as np\n",
    "import os\n",
    "mask_green =([ 0,  80,  0], [ 70, 255, 100])\n",
    "mask_red =  ([ 0,  20,  130], [ 255, 60, 160])\n",
    "mask_orange = ([ 40, 80,  170], [70, 200, 200])\n",
    "mask_yellow = ([ 50, 180,  170], [100, 250, 250])\n",
    "mask_blue = ([ 0,  0,  0], [ 200, 200, 50])\n",
    "mask_black = ([ 22,  22,  22], [ 65, 250, 45])\n",
    "mask_gray =  ([ 120,  120,  120], [ 145, 140, 180])\n",
    "mask_white = ([ 210,  210,  210], [ 245, 245, 245])\n",
    "mask_purple =  ([ 90,  20,  110], [ 250, 125, 200])\n",
    "\n",
    "## TODO\n",
    "\n",
    "\n",
    "def mask_color(image, lower, upper):\n",
    "    lower = np.array(lower, dtype=\"uint8\")\n",
    "    upper = np.array(upper, dtype=\"uint8\")\n",
    "    \n",
    "    mask = cv2.inRange(image, lower, upper)\n",
    "    return cv2.bitwise_and(image, image, mask=mask)"
   ]
  },
  {
   "cell_type": "code",
   "execution_count": 82,
   "metadata": {},
   "outputs": [
    {
     "data": {
      "text/plain": [
       "True"
      ]
     },
     "execution_count": 82,
     "metadata": {},
     "output_type": "execute_result"
    }
   ],
   "source": [
    "image = cv2.imread(\"../boards/board_IMG_9643.jpg\")\n",
    "color =  ([ 90,  20,  110], [ 250, 125, 200])\n",
    "mask_image = mask_color(image, color[0], color[1])\n",
    "cv2.imwrite(f\"output.jpg\", mask_image)\n",
    "\n",
    "\n"
   ]
  },
  {
   "cell_type": "code",
   "execution_count": 91,
   "metadata": {},
   "outputs": [],
   "source": [
    "MASKS_COLOR = {\n",
    "  \"green\"   : ([ 0,  80,  0], [ 70, 255, 100]),\n",
    "  \"red\"     : ([ 0,  20,  130], [ 255, 60, 160]),\n",
    "  \"orange\"  : ([ 40, 80,  170], [70, 200, 200]),\n",
    "  \"yellow\"  : ([ 50, 180,  170], [100, 250, 250]),\n",
    "  \"blue\"    : ([ 0,  0,  0], [ 200, 200, 50]),\n",
    "  \"black\"   : ([ 22,  22,  22], [ 65, 250, 45]),\n",
    "  \"gray\"    : ([ 120,  120,  120], [ 145, 140, 180]),   \n",
    "  \"purple\"  : ([ 90,  20,  110], [ 250, 125, 200]),\n",
    "  \"white\"   : ([ 210,  210,  210], [ 245, 245, 245])\n",
    "}\n",
    "\n",
    "for filename in os.listdir(\"../boards\"):\n",
    "    if \".jpg\" not in filename:\n",
    "        continue\n",
    "    \n",
    "    image = cv2.imread(f\"../boards/{filename}\")\n",
    "    color = MASKS_COLOR[\"yellow\"]\n",
    "    mask_image = mask_color(image, color[0], color[1])\n",
    "    cv2.imwrite(f\"output/mask_{filename}\", mask_image)  "
   ]
  }
 ],
 "metadata": {
  "kernelspec": {
   "display_name": ".venv",
   "language": "python",
   "name": "python3"
  },
  "language_info": {
   "codemirror_mode": {
    "name": "ipython",
    "version": 3
   },
   "file_extension": ".py",
   "mimetype": "text/x-python",
   "name": "python",
   "nbconvert_exporter": "python",
   "pygments_lexer": "ipython3",
   "version": "3.10.16"
  }
 },
 "nbformat": 4,
 "nbformat_minor": 2
}
